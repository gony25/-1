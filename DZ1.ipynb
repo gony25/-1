{
  "nbformat": 4,
  "nbformat_minor": 0,
  "metadata": {
    "colab": {
      "name": "Untitled4.ipynb",
      "version": "0.3.2",
      "provenance": [],
      "include_colab_link": true
    },
    "kernelspec": {
      "name": "python3",
      "display_name": "Python 3"
    }
  },
  "cells": [
    {
      "cell_type": "markdown",
      "metadata": {
        "id": "view-in-github",
        "colab_type": "text"
      },
      "source": [
        "<a href=\"https://colab.research.google.com/github/gony25/-1/blob/master/DZ1.ipynb\" target=\"_parent\"><img src=\"https://colab.research.google.com/assets/colab-badge.svg\" alt=\"Open In Colab\"/></a>"
      ]
    },
    {
      "metadata": {
        "id": "YyUYsAFofu2J",
        "colab_type": "code",
        "colab": {}
      },
      "cell_type": "code",
      "source": [
        "import pandas as pd"
      ],
      "execution_count": 0,
      "outputs": []
    },
    {
      "metadata": {
        "id": "3ojhvcijg0Ix",
        "colab_type": "code",
        "colab": {}
      },
      "cell_type": "code",
      "source": [
        "data = pd.read_csv('abalone.csv') "
      ],
      "execution_count": 0,
      "outputs": []
    },
    {
      "metadata": {
        "id": "noZJvY5Bg9lK",
        "colab_type": "code",
        "colab": {
          "base_uri": "https://localhost:8080/",
          "height": 197
        },
        "outputId": "a3fde57d-264a-49b9-f67e-b1b31a533f32"
      },
      "cell_type": "code",
      "source": [
        "data.head()"
      ],
      "execution_count": 5,
      "outputs": [
        {
          "output_type": "execute_result",
          "data": {
            "text/html": [
              "<div>\n",
              "<style scoped>\n",
              "    .dataframe tbody tr th:only-of-type {\n",
              "        vertical-align: middle;\n",
              "    }\n",
              "\n",
              "    .dataframe tbody tr th {\n",
              "        vertical-align: top;\n",
              "    }\n",
              "\n",
              "    .dataframe thead th {\n",
              "        text-align: right;\n",
              "    }\n",
              "</style>\n",
              "<table border=\"1\" class=\"dataframe\">\n",
              "  <thead>\n",
              "    <tr style=\"text-align: right;\">\n",
              "      <th></th>\n",
              "      <th>Sex</th>\n",
              "      <th>Length</th>\n",
              "      <th>Diameter</th>\n",
              "      <th>Height</th>\n",
              "      <th>Whole weight</th>\n",
              "      <th>Shucked weight</th>\n",
              "      <th>Viscera weight</th>\n",
              "      <th>Shell weight</th>\n",
              "      <th>Rings</th>\n",
              "    </tr>\n",
              "  </thead>\n",
              "  <tbody>\n",
              "    <tr>\n",
              "      <th>0</th>\n",
              "      <td>M</td>\n",
              "      <td>0.455</td>\n",
              "      <td>0.365</td>\n",
              "      <td>0.095</td>\n",
              "      <td>0.5140</td>\n",
              "      <td>0.2245</td>\n",
              "      <td>0.1010</td>\n",
              "      <td>0.150</td>\n",
              "      <td>15</td>\n",
              "    </tr>\n",
              "    <tr>\n",
              "      <th>1</th>\n",
              "      <td>M</td>\n",
              "      <td>0.350</td>\n",
              "      <td>0.265</td>\n",
              "      <td>0.090</td>\n",
              "      <td>0.2255</td>\n",
              "      <td>0.0995</td>\n",
              "      <td>0.0485</td>\n",
              "      <td>0.070</td>\n",
              "      <td>7</td>\n",
              "    </tr>\n",
              "    <tr>\n",
              "      <th>2</th>\n",
              "      <td>F</td>\n",
              "      <td>0.530</td>\n",
              "      <td>0.420</td>\n",
              "      <td>0.135</td>\n",
              "      <td>0.6770</td>\n",
              "      <td>0.2565</td>\n",
              "      <td>0.1415</td>\n",
              "      <td>0.210</td>\n",
              "      <td>9</td>\n",
              "    </tr>\n",
              "    <tr>\n",
              "      <th>3</th>\n",
              "      <td>M</td>\n",
              "      <td>0.440</td>\n",
              "      <td>0.365</td>\n",
              "      <td>0.125</td>\n",
              "      <td>0.5160</td>\n",
              "      <td>0.2155</td>\n",
              "      <td>0.1140</td>\n",
              "      <td>0.155</td>\n",
              "      <td>10</td>\n",
              "    </tr>\n",
              "    <tr>\n",
              "      <th>4</th>\n",
              "      <td>I</td>\n",
              "      <td>0.330</td>\n",
              "      <td>0.255</td>\n",
              "      <td>0.080</td>\n",
              "      <td>0.2050</td>\n",
              "      <td>0.0895</td>\n",
              "      <td>0.0395</td>\n",
              "      <td>0.055</td>\n",
              "      <td>7</td>\n",
              "    </tr>\n",
              "  </tbody>\n",
              "</table>\n",
              "</div>"
            ],
            "text/plain": [
              "  Sex  Length  Diameter  Height  Whole weight  Shucked weight  Viscera weight  \\\n",
              "0   M   0.455     0.365   0.095        0.5140          0.2245          0.1010   \n",
              "1   M   0.350     0.265   0.090        0.2255          0.0995          0.0485   \n",
              "2   F   0.530     0.420   0.135        0.6770          0.2565          0.1415   \n",
              "3   M   0.440     0.365   0.125        0.5160          0.2155          0.1140   \n",
              "4   I   0.330     0.255   0.080        0.2050          0.0895          0.0395   \n",
              "\n",
              "   Shell weight  Rings  \n",
              "0         0.150     15  \n",
              "1         0.070      7  \n",
              "2         0.210      9  \n",
              "3         0.155     10  \n",
              "4         0.055      7  "
            ]
          },
          "metadata": {
            "tags": []
          },
          "execution_count": 5
        }
      ]
    },
    {
      "metadata": {
        "id": "ae9csIsnhX7Z",
        "colab_type": "code",
        "colab": {
          "base_uri": "https://localhost:8080/",
          "height": 34
        },
        "outputId": "fcd80a1e-346f-42ad-a052-bafff2cd1c8f"
      },
      "cell_type": "code",
      "source": [
        "data.shape"
      ],
      "execution_count": 4,
      "outputs": [
        {
          "output_type": "execute_result",
          "data": {
            "text/plain": [
              "(4177, 9)"
            ]
          },
          "metadata": {
            "tags": []
          },
          "execution_count": 4
        }
      ]
    },
    {
      "metadata": {
        "id": "0aCMP4HshpI5",
        "colab_type": "code",
        "colab": {
          "base_uri": "https://localhost:8080/",
          "height": 34
        },
        "outputId": "bbec53b1-2a9f-426f-9fd3-b855d8579294"
      },
      "cell_type": "code",
      "source": [
        "data.Length.min()"
      ],
      "execution_count": 5,
      "outputs": [
        {
          "output_type": "execute_result",
          "data": {
            "text/plain": [
              "0.075"
            ]
          },
          "metadata": {
            "tags": []
          },
          "execution_count": 5
        }
      ]
    },
    {
      "metadata": {
        "id": "drgjQDiCh1DB",
        "colab_type": "code",
        "colab": {
          "base_uri": "https://localhost:8080/",
          "height": 34
        },
        "outputId": "b38c4c72-415c-4179-a1c1-467d6cf363f7"
      },
      "cell_type": "code",
      "source": [
        "data.Length.max()"
      ],
      "execution_count": 6,
      "outputs": [
        {
          "output_type": "execute_result",
          "data": {
            "text/plain": [
              "0.815"
            ]
          },
          "metadata": {
            "tags": []
          },
          "execution_count": 6
        }
      ]
    },
    {
      "metadata": {
        "id": "0EfuOD42iFMw",
        "colab_type": "code",
        "colab": {
          "base_uri": "https://localhost:8080/",
          "height": 34
        },
        "outputId": "10d6c355-7491-4d67-897b-062cffdeff38"
      },
      "cell_type": "code",
      "source": [
        "data.Diameter.median()"
      ],
      "execution_count": 7,
      "outputs": [
        {
          "output_type": "execute_result",
          "data": {
            "text/plain": [
              "0.425"
            ]
          },
          "metadata": {
            "tags": []
          },
          "execution_count": 7
        }
      ]
    },
    {
      "metadata": {
        "id": "RNwlTo9WiTJ_",
        "colab_type": "code",
        "colab": {
          "base_uri": "https://localhost:8080/",
          "height": 34
        },
        "outputId": "6f32b4bb-b51a-4bac-ee0e-025e1c27228a"
      },
      "cell_type": "code",
      "source": [
        "data.Diameter.max()"
      ],
      "execution_count": 8,
      "outputs": [
        {
          "output_type": "execute_result",
          "data": {
            "text/plain": [
              "0.65"
            ]
          },
          "metadata": {
            "tags": []
          },
          "execution_count": 8
        }
      ]
    },
    {
      "metadata": {
        "id": "BclVYgrSi5hC",
        "colab_type": "code",
        "colab": {
          "base_uri": "https://localhost:8080/",
          "height": 70
        },
        "outputId": "12b96949-477a-4817-d506-d8410b12c605"
      },
      "cell_type": "code",
      "source": [
        "data.columns"
      ],
      "execution_count": 9,
      "outputs": [
        {
          "output_type": "execute_result",
          "data": {
            "text/plain": [
              "Index(['Sex', 'Length', 'Diameter', 'Height', 'Whole weight', 'Shucked weight',\n",
              "       'Viscera weight', 'Shell weight', 'Rings'],\n",
              "      dtype='object')"
            ]
          },
          "metadata": {
            "tags": []
          },
          "execution_count": 9
        }
      ]
    },
    {
      "metadata": {
        "id": "3D-454FkjI3C",
        "colab_type": "code",
        "colab": {
          "base_uri": "https://localhost:8080/",
          "height": 132
        },
        "outputId": "a8955fa0-4e20-4bd9-a168-3fbc971ee5a2"
      },
      "cell_type": "code",
      "source": [
        "data.Shell weight.hist()"
      ],
      "execution_count": 10,
      "outputs": [
        {
          "output_type": "error",
          "ename": "SyntaxError",
          "evalue": "ignored",
          "traceback": [
            "\u001b[0;36m  File \u001b[0;32m\"<ipython-input-10-b6b63e022cec>\"\u001b[0;36m, line \u001b[0;32m1\u001b[0m\n\u001b[0;31m    data.Shell weight.hist()\u001b[0m\n\u001b[0m                    ^\u001b[0m\n\u001b[0;31mSyntaxError\u001b[0m\u001b[0;31m:\u001b[0m invalid syntax\n"
          ]
        }
      ]
    },
    {
      "metadata": {
        "id": "Yo3qW9iVja5J",
        "colab_type": "code",
        "colab": {
          "base_uri": "https://localhost:8080/",
          "height": 34
        },
        "outputId": "54f82ce4-d8b6-423d-cd08-14d6da06b756"
      },
      "cell_type": "code",
      "source": [
        "data.Diameter.max()"
      ],
      "execution_count": 11,
      "outputs": [
        {
          "output_type": "execute_result",
          "data": {
            "text/plain": [
              "0.65"
            ]
          },
          "metadata": {
            "tags": []
          },
          "execution_count": 11
        }
      ]
    },
    {
      "metadata": {
        "id": "1fBgUN8uklca",
        "colab_type": "code",
        "colab": {
          "base_uri": "https://localhost:8080/",
          "height": 1136
        },
        "outputId": "1daead9f-1752-4ccd-f273-f2148ff64088"
      },
      "cell_type": "code",
      "source": [
        "data.groupby('Diameter').Sex.max()"
      ],
      "execution_count": 12,
      "outputs": [
        {
          "output_type": "execute_result",
          "data": {
            "text/plain": [
              "Diameter\n",
              "0.055    I\n",
              "0.090    I\n",
              "0.095    I\n",
              "0.100    I\n",
              "0.105    I\n",
              "0.110    M\n",
              "0.115    M\n",
              "0.120    I\n",
              "0.125    M\n",
              "0.130    I\n",
              "0.135    M\n",
              "0.140    M\n",
              "0.145    M\n",
              "0.150    M\n",
              "0.155    M\n",
              "0.160    M\n",
              "0.165    I\n",
              "0.170    M\n",
              "0.175    I\n",
              "0.180    M\n",
              "0.185    I\n",
              "0.190    M\n",
              "0.195    M\n",
              "0.200    M\n",
              "0.205    M\n",
              "0.210    M\n",
              "0.215    M\n",
              "0.220    M\n",
              "0.225    M\n",
              "0.230    M\n",
              "        ..\n",
              "0.490    M\n",
              "0.495    M\n",
              "0.500    M\n",
              "0.505    M\n",
              "0.510    M\n",
              "0.515    M\n",
              "0.520    M\n",
              "0.525    M\n",
              "0.530    M\n",
              "0.535    M\n",
              "0.540    M\n",
              "0.545    M\n",
              "0.550    M\n",
              "0.555    M\n",
              "0.560    M\n",
              "0.565    M\n",
              "0.570    M\n",
              "0.575    M\n",
              "0.580    M\n",
              "0.585    M\n",
              "0.590    M\n",
              "0.595    M\n",
              "0.600    M\n",
              "0.605    M\n",
              "0.610    F\n",
              "0.615    F\n",
              "0.620    M\n",
              "0.625    F\n",
              "0.630    M\n",
              "0.650    F\n",
              "Name: Sex, Length: 111, dtype: object"
            ]
          },
          "metadata": {
            "tags": []
          },
          "execution_count": 12
        }
      ]
    },
    {
      "metadata": {
        "id": "ffnW-zLLlT3i",
        "colab_type": "code",
        "colab": {
          "base_uri": "https://localhost:8080/",
          "height": 1136
        },
        "outputId": "643cfca0-3269-47b2-cbfd-f3af731cdc85"
      },
      "cell_type": "code",
      "source": [
        "data.groupby ('Shucked weight').Rings.min()"
      ],
      "execution_count": 21,
      "outputs": [
        {
          "output_type": "execute_result",
          "data": {
            "text/plain": [
              "Shucked weight\n",
              "0.0010     1\n",
              "0.0025     3\n",
              "0.0045     2\n",
              "0.0050     4\n",
              "0.0055     3\n",
              "0.0065     3\n",
              "0.0070     3\n",
              "0.0075     3\n",
              "0.0080     5\n",
              "0.0085     3\n",
              "0.0090     5\n",
              "0.0095     4\n",
              "0.0100     4\n",
              "0.0105     5\n",
              "0.0110     4\n",
              "0.0115     5\n",
              "0.0120     4\n",
              "0.0125     3\n",
              "0.0130     4\n",
              "0.0135     4\n",
              "0.0145     5\n",
              "0.0150     3\n",
              "0.0155     3\n",
              "0.0165     4\n",
              "0.0170     5\n",
              "0.0175     4\n",
              "0.0180     3\n",
              "0.0185     5\n",
              "0.0190     4\n",
              "0.0200     4\n",
              "          ..\n",
              "1.0515    10\n",
              "1.0615    11\n",
              "1.0685    10\n",
              "1.0705    14\n",
              "1.0715     9\n",
              "1.0745    10\n",
              "1.0815    11\n",
              "1.0830    12\n",
              "1.0950    12\n",
              "1.1055    10\n",
              "1.1075    10\n",
              "1.1090    11\n",
              "1.1155    12\n",
              "1.1280    12\n",
              "1.1330    10\n",
              "1.1335    11\n",
              "1.1455    13\n",
              "1.1465    17\n",
              "1.1495    11\n",
              "1.1565     9\n",
              "1.1705    10\n",
              "1.1945    11\n",
              "1.1965    11\n",
              "1.2320    14\n",
              "1.2395    12\n",
              "1.2455    11\n",
              "1.2530     9\n",
              "1.3485    12\n",
              "1.3510    13\n",
              "1.4880    11\n",
              "Name: Rings, Length: 1515, dtype: int64"
            ]
          },
          "metadata": {
            "tags": []
          },
          "execution_count": 21
        }
      ]
    },
    {
      "metadata": {
        "id": "BqYl0wD2oSDq",
        "colab_type": "code",
        "colab": {
          "base_uri": "https://localhost:8080/",
          "height": 34
        },
        "outputId": "86be0a9c-ed02-4e68-dbe0-5176be2483be"
      },
      "cell_type": "code",
      "source": [
        "data.Height.min()"
      ],
      "execution_count": 22,
      "outputs": [
        {
          "output_type": "execute_result",
          "data": {
            "text/plain": [
              "0.0"
            ]
          },
          "metadata": {
            "tags": []
          },
          "execution_count": 22
        }
      ]
    },
    {
      "metadata": {
        "id": "mUz4eP90oksx",
        "colab_type": "code",
        "colab": {
          "base_uri": "https://localhost:8080/",
          "height": 34
        },
        "outputId": "ceb9fe8c-86d4-4f6d-f932-62f3b9502b47"
      },
      "cell_type": "code",
      "source": [
        "data.Height.max()"
      ],
      "execution_count": 23,
      "outputs": [
        {
          "output_type": "execute_result",
          "data": {
            "text/plain": [
              "1.13"
            ]
          },
          "metadata": {
            "tags": []
          },
          "execution_count": 23
        }
      ]
    },
    {
      "metadata": {
        "id": "hhrEIzgdosEq",
        "colab_type": "code",
        "colab": {
          "base_uri": "https://localhost:8080/",
          "height": 34
        },
        "outputId": "f2e2fd7a-471c-4f87-f5f2-a83e65d33c92"
      },
      "cell_type": "code",
      "source": [
        "data.Rings.min()"
      ],
      "execution_count": 24,
      "outputs": [
        {
          "output_type": "execute_result",
          "data": {
            "text/plain": [
              "1"
            ]
          },
          "metadata": {
            "tags": []
          },
          "execution_count": 24
        }
      ]
    },
    {
      "metadata": {
        "id": "2YgG93-Uo805",
        "colab_type": "code",
        "colab": {
          "base_uri": "https://localhost:8080/",
          "height": 34
        },
        "outputId": "de094a70-bdcc-426c-c643-5edf3bec77a4"
      },
      "cell_type": "code",
      "source": [
        "data.Height.min()"
      ],
      "execution_count": 26,
      "outputs": [
        {
          "output_type": "execute_result",
          "data": {
            "text/plain": [
              "0.0"
            ]
          },
          "metadata": {
            "tags": []
          },
          "execution_count": 26
        }
      ]
    },
    {
      "metadata": {
        "id": "nkypkFtppCBZ",
        "colab_type": "code",
        "colab": {
          "base_uri": "https://localhost:8080/",
          "height": 34
        },
        "outputId": "989a942e-7e84-4f8d-d58e-bbce81afc074"
      },
      "cell_type": "code",
      "source": [
        "data.Height.max()"
      ],
      "execution_count": 27,
      "outputs": [
        {
          "output_type": "execute_result",
          "data": {
            "text/plain": [
              "1.13"
            ]
          },
          "metadata": {
            "tags": []
          },
          "execution_count": 27
        }
      ]
    },
    {
      "metadata": {
        "id": "Fuo4jzlzpX-Q",
        "colab_type": "code",
        "colab": {
          "base_uri": "https://localhost:8080/",
          "height": 132
        },
        "outputId": "5914baf9-900f-4dfb-c8e6-6ab11b8d28bf"
      },
      "cell_type": "code",
      "source": [
        "data.Whole weight.min()"
      ],
      "execution_count": 28,
      "outputs": [
        {
          "output_type": "error",
          "ename": "SyntaxError",
          "evalue": "ignored",
          "traceback": [
            "\u001b[0;36m  File \u001b[0;32m\"<ipython-input-28-8b03a18dbd04>\"\u001b[0;36m, line \u001b[0;32m1\u001b[0m\n\u001b[0;31m    data.Whole weight.min()\u001b[0m\n\u001b[0m                    ^\u001b[0m\n\u001b[0;31mSyntaxError\u001b[0m\u001b[0;31m:\u001b[0m invalid syntax\n"
          ]
        }
      ]
    }
  ]
}